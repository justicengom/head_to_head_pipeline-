{
 "cells": [
  {
   "cell_type": "markdown",
   "metadata": {},
   "source": [
    "See for examples https://github.com/cduck/drawSvg\n",
    "\n",
    "Great series on SVG coordinates https://www.sarasoueidan.com/blog/svg-coordinate-systems/"
   ]
  },
  {
   "cell_type": "code",
   "execution_count": 3,
   "metadata": {},
   "outputs": [],
   "source": [
    "import drawSvg as draw\n",
    "import numpy as np"
   ]
  },
  {
   "cell_type": "code",
   "execution_count": 3,
   "metadata": {},
   "outputs": [
    {
     "data": {
      "text/html": [
       "<img src=\"data:image/svg+xml;base64,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\">"
      ],
      "text/plain": [
       "<drawSvg.drawing.Drawing at 0x7f9058c22130>"
      ]
     },
     "execution_count": 3,
     "metadata": {},
     "output_type": "execute_result"
    }
   ],
   "source": [
    "d = draw.Drawing(200, 100, origin='center', displayInline=False)\n",
    "\n",
    "# Draw an irregular polygon\n",
    "d.append(draw.Lines(-80, -45,\n",
    "                    70, -49,\n",
    "                    95, 49,\n",
    "                    -90, 40,\n",
    "                    close=False,\n",
    "            fill='#eeee00',\n",
    "            stroke='black'))\n",
    "\n",
    "# Draw a rectangle\n",
    "r = draw.Rectangle(-80,0,40,50, fill='#1248ff')\n",
    "r.appendTitle(\"Our first rectangle\")  # Add a tooltip\n",
    "d.append(r)\n",
    "\n",
    "# Draw a circle\n",
    "d.append(draw.Circle(-40, -10, 30,\n",
    "            fill='red', stroke_width=2, stroke='black'))\n",
    "\n",
    "# Draw an arbitrary path (a triangle in this case)\n",
    "p = draw.Path(stroke_width=2, stroke='lime',\n",
    "              fill='black', fill_opacity=0.2)\n",
    "p.M(-10, 20)  # Start path at point (-10, 20)\n",
    "p.C(30, -10, 30, 50, 70, 20)  # Draw a curve to (70, 20)\n",
    "d.append(p)\n",
    "\n",
    "# Draw text\n",
    "d.append(draw.Text('Basic text', 8, -10, 35, fill='blue'))  # Text with font size 8\n",
    "d.append(draw.Text('Path text', 8, path=p, text_anchor='start', valign='middle'))\n",
    "d.append(draw.Text(['Multi-line', 'text'], 8, path=p, text_anchor='end'))\n",
    "\n",
    "# Draw multiple circular arcs\n",
    "d.append(draw.ArcLine(60,-20,20,60,270,\n",
    "            stroke='red', stroke_width=5, fill='red', fill_opacity=0.2))\n",
    "d.append(draw.Arc(60,-20,20,60,270,cw=False,\n",
    "            stroke='green', stroke_width=3, fill='none'))\n",
    "d.append(draw.Arc(60,-20,20,270,60,cw=True,\n",
    "            stroke='blue', stroke_width=1, fill='black', fill_opacity=0.3))\n",
    "\n",
    "# Draw arrows\n",
    "arrow = draw.Marker(-0.1, -0.5, 0.9, 0.5, scale=4, orient='auto')\n",
    "arrow.append(draw.Lines(-0.1, -0.5, -0.1, 0.5, 0.9, 0, fill='red', close=True))\n",
    "p = draw.Path(stroke='red', stroke_width=2, fill='none',\n",
    "              marker_end=arrow)  # Add an arrow to the end of a path\n",
    "p.M(20, -40).L(20, -27).L(0, -20)  # Chain multiple path operations\n",
    "d.append(p)\n",
    "d.append(draw.Line(30, -20, 0, -10,\n",
    "            stroke='red', stroke_width=2, fill='none',\n",
    "            marker_end=arrow))  # Add an arrow to the end of a line\n",
    "\n",
    "d.setPixelScale(2)  # Set number of pixels per geometry unit\n",
    "#d.setRenderSize(400,200)  # Alternative to setPixelScale\n",
    "# d.saveSvg('example.svg')\n",
    "# d.savePng('example.png')\n",
    "\n",
    "# Display in Jupyter notebook\n",
    "d.rasterize()  # Display as PNG\n",
    "d  # Display as SVG"
   ]
  },
  {
   "cell_type": "code",
   "execution_count": 14,
   "metadata": {},
   "outputs": [],
   "source": [
    "W = 800\n",
    "H = 600\n",
    "ITS = [0, 2, 5, 12]  # illumina distance thresholds\n",
    "NTS = [0, 3, 5, 11]  # nanopore distance thresholds\n",
    "L = len(ITS)"
   ]
  },
  {
   "cell_type": "code",
   "execution_count": 237,
   "metadata": {},
   "outputs": [
    {
     "data": {
      "text/html": [
       "<img src=\"data:image/svg+xml;base64,PD94bWwgdmVyc2lvbj0iMS4wIiBlbmNvZGluZz0iVVRGLTgiPz4KPHN2ZyB4bWxucz0iaHR0cDovL3d3dy53My5vcmcvMjAwMC9zdmciIHhtbG5zOnhsaW5rPSJodHRwOi8vd3d3LnczLm9yZy8xOTk5L3hsaW5rIgogICAgIHdpZHRoPSI4MDAiIGhlaWdodD0iNjAwIiB2aWV3Qm94PSIwIC02MDAgODAwIDYwMCI+CjxkZWZzPgo8L2RlZnM+CjxwYXRoIGQ9Ik0wLC0xNTAuMCBMODAwLC0xNTAuMCIgc3Ryb2tlPSJibGFjayIgc3Ryb2tlLWRhc2hhcnJheT0iNSA1IDQiIC8+CjxwYXRoIGQ9Ik0wLC0zMDAuMCBMODAwLC0zMDAuMCIgc3Ryb2tlPSJibGFjayIgc3Ryb2tlLWRhc2hhcnJheT0iNSA1IDQiIC8+CjxwYXRoIGQ9Ik0wLC00NTAuMCBMODAwLC00NTAuMCIgc3Ryb2tlPSJibGFjayIgc3Ryb2tlLWRhc2hhcnJheT0iNSA1IDQiIC8+Cjx0ZXh0IHg9IjAiIHk9Ii01MjUuMCIgZm9udC1zaXplPSIxMiIgZHk9IjBlbSI+MDwvdGV4dD4KPHRleHQgeD0iMCIgeT0iLTM3NS4wIiBmb250LXNpemU9IjEyIiBkeT0iMGVtIj4yPC90ZXh0Pgo8dGV4dCB4PSIwIiB5PSItMjI1LjAiIGZvbnQtc2l6ZT0iMTIiIGR5PSIwZW0iPjU8L3RleHQ+Cjx0ZXh0IHg9IjAiIHk9Ii03NS4wIiBmb250LXNpemU9IjEyIiBkeT0iMGVtIj4xMjwvdGV4dD4KPC9zdmc+\">"
      ],
      "text/plain": [
       "<drawSvg.drawing.Drawing at 0x7efdfacdddf0>"
      ]
     },
     "execution_count": 237,
     "metadata": {},
     "output_type": "execute_result"
    }
   ],
   "source": [
    "# note the origin here is actually the bottom left, not top left\n",
    "canvas = draw.Drawing(width=W, height=H, origin=(0, 0), displayInline=False)\n",
    "\n",
    "for y in np.arange(H/L, H, H/L):\n",
    "    start = (0, y)\n",
    "    end = (W, y)\n",
    "    canvas.append(draw.Line(*start, *end, stroke=\"black\", stroke_dasharray=\"5 5 4\"))\n",
    "    \n",
    "for i, t in enumerate(ITS, start=1):\n",
    "    x = 0\n",
    "    y = H - (((H/L)*i - (H/L/2)))\n",
    "    txt = draw.Text(f\"{t}\", fontSize=12, x=x, y=y)\n",
    "    canvas.append(txt)\n",
    "\n",
    "canvas"
   ]
  },
  {
   "cell_type": "code",
   "execution_count": 17,
   "metadata": {},
   "outputs": [
    {
     "name": "stdout",
     "output_type": "stream",
     "text": [
      "Help on class Text in module drawSvg.elements:\n",
      "\n",
      "class Text(DrawingParentElement)\n",
      " |  Text(text, *args, path=None, id=None, _skipCheck=False, **kwargs)\n",
      " |  \n",
      " |  Text\n",
      " |  \n",
      " |  Additional keyword arguments are output as additional arguments to the\n",
      " |  SVG node e.g. fill='red', font_size=20, text_anchor='middle',\n",
      " |  letter_spacing=1.5.\n",
      " |  \n",
      " |  CairoSVG bug with letter spacing text on a path: The first two letters\n",
      " |  are always spaced as if letter_spacing=1.\n",
      " |  \n",
      " |  Method resolution order:\n",
      " |      Text\n",
      " |      DrawingParentElement\n",
      " |      DrawingBasicElement\n",
      " |      DrawingElement\n",
      " |      builtins.object\n",
      " |  \n",
      " |  Methods defined here:\n",
      " |  \n",
      " |  __init__(self, text, fontSize, x=None, y=None, *, center=False, valign=None, lineHeight=1, lineOffset=0, path=None, startOffset=None, pathArgs=None, tspanArgs=None, cairoFix=True, _skipCheck=False, **kwargs)\n",
      " |      Initialize self.  See help(type(self)) for accurate signature.\n",
      " |  \n",
      " |  appendLine(self, line, **kwargs)\n",
      " |  \n",
      " |  writeChildrenContent(self, idGen, isDuplicate, outputFile, dryRun)\n",
      " |      Override in a subclass to add data between the start and end\n",
      " |      tags.  This will not be called if hasContent is False.\n",
      " |  \n",
      " |  writeContent(self, idGen, isDuplicate, outputFile, dryRun)\n",
      " |      Override in a subclass to add data between the start and end\n",
      " |      tags.  This will not be called if hasContent is False.\n",
      " |  \n",
      " |  ----------------------------------------------------------------------\n",
      " |  Static methods defined here:\n",
      " |  \n",
      " |  __new__(cls, text, *args, path=None, id=None, _skipCheck=False, **kwargs)\n",
      " |      Create and return a new object.  See help(type) for accurate signature.\n",
      " |  \n",
      " |  ----------------------------------------------------------------------\n",
      " |  Data and other attributes defined here:\n",
      " |  \n",
      " |  TAG_NAME = 'text'\n",
      " |  \n",
      " |  hasContent = True\n",
      " |  \n",
      " |  ----------------------------------------------------------------------\n",
      " |  Methods inherited from DrawingParentElement:\n",
      " |  \n",
      " |  append(self, element, *, z=None)\n",
      " |  \n",
      " |  draw(self, obj, *, z=None, **kwargs)\n",
      " |  \n",
      " |  extend(self, iterable, *, z=None)\n",
      " |  \n",
      " |  ----------------------------------------------------------------------\n",
      " |  Methods inherited from DrawingBasicElement:\n",
      " |  \n",
      " |  __eq__(self, other)\n",
      " |      Return self==value.\n",
      " |  \n",
      " |  allChildren(self)\n",
      " |      Returns self.children and self.orderedChildren as a single list.\n",
      " |  \n",
      " |  appendAnim(self, animateElement)\n",
      " |  \n",
      " |  appendTitle(self, text, **kwargs)\n",
      " |  \n",
      " |  checkChildrenAllowed(self)\n",
      " |  \n",
      " |  extendAnim(self, animateIterable)\n",
      " |  \n",
      " |  getSvgDefs(self)\n",
      " |  \n",
      " |  writeSvgDefs(self, idGen, isDuplicate, outputFile, dryRun)\n",
      " |  \n",
      " |  writeSvgElement(self, idGen, isDuplicate, outputFile, dryRun, forceDup=False)\n",
      " |  \n",
      " |  ----------------------------------------------------------------------\n",
      " |  Data descriptors inherited from DrawingBasicElement:\n",
      " |  \n",
      " |  id\n",
      " |  \n",
      " |  ----------------------------------------------------------------------\n",
      " |  Data and other attributes inherited from DrawingBasicElement:\n",
      " |  \n",
      " |  __hash__ = None\n",
      " |  \n",
      " |  ----------------------------------------------------------------------\n",
      " |  Methods inherited from DrawingElement:\n",
      " |  \n",
      " |  getLinkedElems(self)\n",
      " |  \n",
      " |  ----------------------------------------------------------------------\n",
      " |  Data descriptors inherited from DrawingElement:\n",
      " |  \n",
      " |  __dict__\n",
      " |      dictionary for instance variables (if defined)\n",
      " |  \n",
      " |  __weakref__\n",
      " |      list of weak references to the object (if defined)\n",
      "\n"
     ]
    }
   ],
   "source": [
    "help(draw.Text)"
   ]
  },
  {
   "cell_type": "code",
   "execution_count": 18,
   "metadata": {},
   "outputs": [
    {
     "name": "stdout",
     "output_type": "stream",
     "text": [
      "Help on class enumerate in module builtins:\n",
      "\n",
      "class enumerate(object)\n",
      " |  enumerate(iterable, start=0)\n",
      " |  \n",
      " |  Return an enumerate object.\n",
      " |  \n",
      " |    iterable\n",
      " |      an object supporting iteration\n",
      " |  \n",
      " |  The enumerate object yields pairs containing a count (from start, which\n",
      " |  defaults to zero) and a value yielded by the iterable argument.\n",
      " |  \n",
      " |  enumerate is useful for obtaining an indexed list:\n",
      " |      (0, seq[0]), (1, seq[1]), (2, seq[2]), ...\n",
      " |  \n",
      " |  Methods defined here:\n",
      " |  \n",
      " |  __getattribute__(self, name, /)\n",
      " |      Return getattr(self, name).\n",
      " |  \n",
      " |  __iter__(self, /)\n",
      " |      Implement iter(self).\n",
      " |  \n",
      " |  __next__(self, /)\n",
      " |      Implement next(self).\n",
      " |  \n",
      " |  __reduce__(...)\n",
      " |      Return state information for pickling.\n",
      " |  \n",
      " |  ----------------------------------------------------------------------\n",
      " |  Static methods defined here:\n",
      " |  \n",
      " |  __new__(*args, **kwargs) from builtins.type\n",
      " |      Create and return a new object.  See help(type) for accurate signature.\n",
      "\n"
     ]
    }
   ],
   "source": [
    "help(enumerate)"
   ]
  },
  {
   "cell_type": "code",
   "execution_count": 72,
   "metadata": {},
   "outputs": [
    {
     "data": {
      "image/svg+xml": [
       "<?xml version=\"1.0\" encoding=\"UTF-8\"?>\n",
       "<svg xmlns=\"http://www.w3.org/2000/svg\" xmlns:xlink=\"http://www.w3.org/1999/xlink\"\n",
       "     width=\"200.0\" height=\"200\" viewBox=\"0 -4 4 4\">\n",
       "<defs>\n",
       "</defs>\n",
       "<g transform=\"scale(1,-1) translate(0,4)\">\n",
       "<circle cx=\"0\" cy=\"0\" r=\"1\" fill=\"red\" />\n",
       "<circle cx=\"2\" cy=\"-2\" r=\"0.75\" fill=\"green\" />\n",
       "<circle cx=\"3\" cy=\"-3\" r=\"0.5\" fill=\"green\" />\n",
       "<text x=\"0\" y=\"0\" font-size=\"0.5\" text-anchor=\"middle\" transform=\"scale(1,-1) translate(2,1)\" dy=\"0em\">Text at (2,1)</text>\n",
       "</g>\n",
       "</svg>"
      ],
      "text/plain": [
       "<drawSvg.drawing.Drawing at 0x7efdfb10ebb0>"
      ]
     },
     "execution_count": 72,
     "metadata": {},
     "output_type": "execute_result"
    }
   ],
   "source": [
    "d = draw.Drawing(4,4, origin=(0,0))\n",
    "\n",
    "g = draw.Group(transform='scale(1,-1) translate(0,4)')\n",
    "g.append(draw.Circle(0,0,1, fill='red'))\n",
    "g.append(draw.Circle(2,2,0.75, fill='green'))\n",
    "g.append(draw.Circle(3,3,0.5, fill='green'))\n",
    "g.append(draw.Text('Text at (2,1)',0.5, 0,0, text_anchor='middle',\n",
    "                   transform='scale(1,-1) translate(2,1)'))\n",
    "d.append(g)\n",
    "\n",
    "d.setRenderSize(h=200)\n",
    "d"
   ]
  },
  {
   "cell_type": "code",
   "execution_count": null,
   "metadata": {},
   "outputs": [],
   "source": []
  }
 ],
 "metadata": {
  "kernelspec": {
   "display_name": "Python 3",
   "language": "python",
   "name": "python3"
  },
  "language_info": {
   "codemirror_mode": {
    "name": "ipython",
    "version": 3
   },
   "file_extension": ".py",
   "mimetype": "text/x-python",
   "name": "python",
   "nbconvert_exporter": "python",
   "pygments_lexer": "ipython3",
   "version": "3.8.2"
  }
 },
 "nbformat": 4,
 "nbformat_minor": 4
}
