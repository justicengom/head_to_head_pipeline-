{
 "cells": [
  {
   "cell_type": "code",
   "execution_count": 1,
   "id": "94cbcb4b",
   "metadata": {
    "execution": {
     "iopub.execute_input": "2021-11-07T03:42:04.538694Z",
     "iopub.status.busy": "2021-11-07T03:42:04.537730Z",
     "iopub.status.idle": "2021-11-07T03:42:04.798935Z",
     "shell.execute_reply": "2021-11-07T03:42:04.797968Z"
    },
    "tags": [
     "snakemake-job-properties"
    ]
   },
   "outputs": [],
   "source": [
    "\n",
    "######## snakemake preamble start (automatically inserted, do not edit) ########\n",
    "import sys; sys.path.extend(['/hps/software/users/iqbal/mbhall/miniconda3/envs/h2h/lib/python3.8/site-packages', '/hps/nobackup/iqbal/mbhall/tech_wars/analysis/resistance_prediction/workflow/notebooks']); import pickle; snakemake = pickle.loads(b'\\x80\\x04\\x95{W\\x00\\x00\\x00\\x00\\x00\\x00\\x8c\\x10snakemake.script\\x94\\x8c\\tSnakemake\\x94\\x93\\x94)\\x81\\x94}\\x94(\\x8c\\x05input\\x94\\x8c\\x0csnakemake.io\\x94\\x8c\\nInputFiles\\x94\\x93\\x94)\\x81\\x94(\\x8c\\x80/hps/nobackup/iqbal/mbhall/tech_wars/analysis/resistance_prediction/results/mutation_concordance/mykrobe/madagascar/mada_1-7.csv\\x94\\x8c\\x80/hps/nobackup/iqbal/mbhall/tech_wars/analysis/resistance_prediction/results/mutation_concordance/mykrobe/madagascar/mada_109.csv\\x94\\x8c\\x81/hps/nobackup/iqbal/mbhall/tech_wars/analysis/resistance_prediction/results/mutation_concordance/mykrobe/madagascar/mada_1-28.csv\\x94\\x8c\\x80/hps/nobackup/iqbal/mbhall/tech_wars/analysis/resistance_prediction/results/mutation_concordance/mykrobe/madagascar/mada_135.csv\\x94\\x8c\\x81/hps/nobackup/iqbal/mbhall/tech_wars/analysis/resistance_prediction/results/mutation_concordance/mykrobe/madagascar/mada_1-43.csv\\x94\\x8c\\x81/hps/nobackup/iqbal/mbhall/tech_wars/analysis/resistance_prediction/results/mutation_concordance/mykrobe/madagascar/mada_2-31.csv\\x94\\x8c\\x81/hps/nobackup/iqbal/mbhall/tech_wars/analysis/resistance_prediction/results/mutation_concordance/mykrobe/madagascar/mada_2-50.csv\\x94\\x8c\\x80/hps/nobackup/iqbal/mbhall/tech_wars/analysis/resistance_prediction/results/mutation_concordance/mykrobe/madagascar/mada_110.csv\\x94\\x8c\\x80/hps/nobackup/iqbal/mbhall/tech_wars/analysis/resistance_prediction/results/mutation_concordance/mykrobe/madagascar/mada_2-1.csv\\x94\\x8c\\x81/hps/nobackup/iqbal/mbhall/tech_wars/analysis/resistance_prediction/results/mutation_concordance/mykrobe/madagascar/mada_1-22.csv\\x94\\x8c\\x81/hps/nobackup/iqbal/mbhall/tech_wars/analysis/resistance_prediction/results/mutation_concordance/mykrobe/madagascar/mada_1-36.csv\\x94\\x8c\\x80/hps/nobackup/iqbal/mbhall/tech_wars/analysis/resistance_prediction/results/mutation_concordance/mykrobe/madagascar/mada_120.csv\\x94\\x8c\\x80/hps/nobackup/iqbal/mbhall/tech_wars/analysis/resistance_prediction/results/mutation_concordance/mykrobe/madagascar/mada_107.csv\\x94\\x8c\\x81/hps/nobackup/iqbal/mbhall/tech_wars/analysis/resistance_prediction/results/mutation_concordance/mykrobe/madagascar/mada_1-51.csv\\x94\\x8c\\x80/hps/nobackup/iqbal/mbhall/tech_wars/analysis/resistance_prediction/results/mutation_concordance/mykrobe/madagascar/mada_1-6.csv\\x94\\x8c\\x81/hps/nobackup/iqbal/mbhall/tech_wars/analysis/resistance_prediction/results/mutation_concordance/mykrobe/madagascar/mada_1-53.csv\\x94\\x8c\\x80/hps/nobackup/iqbal/mbhall/tech_wars/analysis/resistance_prediction/results/mutation_concordance/mykrobe/madagascar/mada_130.csv\\x94\\x8c\\x81/hps/nobackup/iqbal/mbhall/tech_wars/analysis/resistance_prediction/results/mutation_concordance/mykrobe/madagascar/mada_2-34.csv\\x94\\x8c\\x81/hps/nobackup/iqbal/mbhall/tech_wars/analysis/resistance_prediction/results/mutation_concordance/mykrobe/madagascar/mada_1-40.csv\\x94\\x8c\\x80/hps/nobackup/iqbal/mbhall/tech_wars/analysis/resistance_prediction/results/mutation_concordance/mykrobe/madagascar/mada_143.csv\\x94\\x8c\\x81/hps/nobackup/iqbal/mbhall/tech_wars/analysis/resistance_prediction/results/mutation_concordance/mykrobe/madagascar/mada_1-25.csv\\x94\\x8c\\x81/hps/nobackup/iqbal/mbhall/tech_wars/analysis/resistance_prediction/results/mutation_concordance/mykrobe/madagascar/mada_1-30.csv\\x94\\x8c\\x81/hps/nobackup/iqbal/mbhall/tech_wars/analysis/resistance_prediction/results/mutation_concordance/mykrobe/madagascar/mada_1-33.csv\\x94\\x8c\\x80/hps/nobackup/iqbal/mbhall/tech_wars/analysis/resistance_prediction/results/mutation_concordance/mykrobe/madagascar/mada_111.csv\\x94\\x8c\\x80/hps/nobackup/iqbal/mbhall/tech_wars/analysis/resistance_prediction/results/mutation_concordance/mykrobe/madagascar/mada_102.csv\\x94\\x8c\\x81/hps/nobackup/iqbal/mbhall/tech_wars/analysis/resistance_prediction/results/mutation_concordance/mykrobe/madagascar/mada_1-48.csv\\x94\\x8c\\x81/hps/nobackup/iqbal/mbhall/tech_wars/analysis/resistance_prediction/results/mutation_concordance/mykrobe/madagascar/mada_1-47.csv\\x94\\x8c\\x80/hps/nobackup/iqbal/mbhall/tech_wars/analysis/resistance_prediction/results/mutation_concordance/mykrobe/madagascar/mada_116.csv\\x94\\x8c\\x80/hps/nobackup/iqbal/mbhall/tech_wars/analysis/resistance_prediction/results/mutation_concordance/mykrobe/madagascar/mada_150.csv\\x94\\x8c\\x81/hps/nobackup/iqbal/mbhall/tech_wars/analysis/resistance_prediction/results/mutation_concordance/mykrobe/madagascar/mada_1-39.csv\\x94\\x8c\\x81/hps/nobackup/iqbal/mbhall/tech_wars/analysis/resistance_prediction/results/mutation_concordance/mykrobe/madagascar/mada_1-44.csv\\x94\\x8c\\x80/hps/nobackup/iqbal/mbhall/tech_wars/analysis/resistance_prediction/results/mutation_concordance/mykrobe/madagascar/mada_132.csv\\x94\\x8c\\x80/hps/nobackup/iqbal/mbhall/tech_wars/analysis/resistance_prediction/results/mutation_concordance/mykrobe/madagascar/mada_128.csv\\x94\\x8c\\x81/hps/nobackup/iqbal/mbhall/tech_wars/analysis/resistance_prediction/results/mutation_concordance/mykrobe/madagascar/mada_2-46.csv\\x94\\x8c\\x80/hps/nobackup/iqbal/mbhall/tech_wars/analysis/resistance_prediction/results/mutation_concordance/mykrobe/madagascar/mada_112.csv\\x94\\x8c\\x81/hps/nobackup/iqbal/mbhall/tech_wars/analysis/resistance_prediction/results/mutation_concordance/mykrobe/madagascar/mada_1-12.csv\\x94\\x8c\\x80/hps/nobackup/iqbal/mbhall/tech_wars/analysis/resistance_prediction/results/mutation_concordance/mykrobe/madagascar/mada_154.csv\\x94\\x8c\\x80/hps/nobackup/iqbal/mbhall/tech_wars/analysis/resistance_prediction/results/mutation_concordance/mykrobe/madagascar/mada_126.csv\\x94\\x8c\\x80/hps/nobackup/iqbal/mbhall/tech_wars/analysis/resistance_prediction/results/mutation_concordance/mykrobe/madagascar/mada_1-5.csv\\x94\\x8c\\x80/hps/nobackup/iqbal/mbhall/tech_wars/analysis/resistance_prediction/results/mutation_concordance/mykrobe/madagascar/mada_122.csv\\x94\\x8c\\x80/hps/nobackup/iqbal/mbhall/tech_wars/analysis/resistance_prediction/results/mutation_concordance/mykrobe/madagascar/mada_133.csv\\x94\\x8c\\x81/hps/nobackup/iqbal/mbhall/tech_wars/analysis/resistance_prediction/results/mutation_concordance/mykrobe/madagascar/mada_1-16.csv\\x94\\x8c\\x80/hps/nobackup/iqbal/mbhall/tech_wars/analysis/resistance_prediction/results/mutation_concordance/mykrobe/madagascar/mada_140.csv\\x94\\x8c\\x80/hps/nobackup/iqbal/mbhall/tech_wars/analysis/resistance_prediction/results/mutation_concordance/mykrobe/madagascar/mada_134.csv\\x94\\x8c\\x80/hps/nobackup/iqbal/mbhall/tech_wars/analysis/resistance_prediction/results/mutation_concordance/mykrobe/madagascar/mada_123.csv\\x94\\x8c\\x81/hps/nobackup/iqbal/mbhall/tech_wars/analysis/resistance_prediction/results/mutation_concordance/mykrobe/madagascar/mada_2-42.csv\\x94\\x8c\\x80/hps/nobackup/iqbal/mbhall/tech_wars/analysis/resistance_prediction/results/mutation_concordance/mykrobe/madagascar/mada_127.csv\\x94\\x8c\\x80/hps/nobackup/iqbal/mbhall/tech_wars/analysis/resistance_prediction/results/mutation_concordance/mykrobe/madagascar/mada_117.csv\\x94\\x8c\\x80/hps/nobackup/iqbal/mbhall/tech_wars/analysis/resistance_prediction/results/mutation_concordance/mykrobe/madagascar/mada_1-1.csv\\x94\\x8c\\x80/hps/nobackup/iqbal/mbhall/tech_wars/analysis/resistance_prediction/results/mutation_concordance/mykrobe/madagascar/mada_124.csv\\x94\\x8c\\x80/hps/nobackup/iqbal/mbhall/tech_wars/analysis/resistance_prediction/results/mutation_concordance/mykrobe/madagascar/mada_151.csv\\x94\\x8c\\x80/hps/nobackup/iqbal/mbhall/tech_wars/analysis/resistance_prediction/results/mutation_concordance/mykrobe/madagascar/mada_139.csv\\x94\\x8c\\x80/hps/nobackup/iqbal/mbhall/tech_wars/analysis/resistance_prediction/results/mutation_concordance/mykrobe/madagascar/mada_121.csv\\x94\\x8c\\x80/hps/nobackup/iqbal/mbhall/tech_wars/analysis/resistance_prediction/results/mutation_concordance/mykrobe/madagascar/mada_113.csv\\x94\\x8c\\x81/hps/nobackup/iqbal/mbhall/tech_wars/analysis/resistance_prediction/results/mutation_concordance/mykrobe/madagascar/mada_1-18.csv\\x94\\x8c\\x80/hps/nobackup/iqbal/mbhall/tech_wars/analysis/resistance_prediction/results/mutation_concordance/mykrobe/madagascar/mada_131.csv\\x94\\x8c\\x81/hps/nobackup/iqbal/mbhall/tech_wars/analysis/resistance_prediction/results/mutation_concordance/mykrobe/madagascar/mada_1-38.csv\\x94\\x8c\\x80/hps/nobackup/iqbal/mbhall/tech_wars/analysis/resistance_prediction/results/mutation_concordance/mykrobe/madagascar/mada_104.csv\\x94\\x8c\\x81/hps/nobackup/iqbal/mbhall/tech_wars/analysis/resistance_prediction/results/mutation_concordance/mykrobe/madagascar/mada_1-46.csv\\x94\\x8c\\x81/hps/nobackup/iqbal/mbhall/tech_wars/analysis/resistance_prediction/results/mutation_concordance/mykrobe/madagascar/mada_2-25.csv\\x94\\x8c\\x80/hps/nobackup/iqbal/mbhall/tech_wars/analysis/resistance_prediction/results/mutation_concordance/mykrobe/madagascar/mada_129.csv\\x94\\x8c\\x80/hps/nobackup/iqbal/mbhall/tech_wars/analysis/resistance_prediction/results/mutation_concordance/mykrobe/madagascar/mada_118.csv\\x94\\x8c\\x80/hps/nobackup/iqbal/mbhall/tech_wars/analysis/resistance_prediction/results/mutation_concordance/mykrobe/madagascar/mada_136.csv\\x94\\x8c\\x81/hps/nobackup/iqbal/mbhall/tech_wars/analysis/resistance_prediction/results/mutation_concordance/mykrobe/madagascar/mada_1-50.csv\\x94\\x8c\\x81/hps/nobackup/iqbal/mbhall/tech_wars/analysis/resistance_prediction/results/mutation_concordance/mykrobe/madagascar/mada_1-11.csv\\x94\\x8c\\x81/hps/nobackup/iqbal/mbhall/tech_wars/analysis/resistance_prediction/results/mutation_concordance/mykrobe/madagascar/mada_1-41.csv\\x94\\x8c\\x80/hps/nobackup/iqbal/mbhall/tech_wars/analysis/resistance_prediction/results/mutation_concordance/mykrobe/madagascar/mada_1-2.csv\\x94\\x8c\\x81/hps/nobackup/iqbal/mbhall/tech_wars/analysis/resistance_prediction/results/mutation_concordance/mykrobe/madagascar/mada_1-19.csv\\x94\\x8c\\x81/hps/nobackup/iqbal/mbhall/tech_wars/analysis/resistance_prediction/results/mutation_concordance/mykrobe/madagascar/mada_1-10.csv\\x94\\x8c\\x80/hps/nobackup/iqbal/mbhall/tech_wars/analysis/resistance_prediction/results/mutation_concordance/mykrobe/madagascar/mada_1-3.csv\\x94\\x8c\\x80/hps/nobackup/iqbal/mbhall/tech_wars/analysis/resistance_prediction/results/mutation_concordance/mykrobe/madagascar/mada_1-8.csv\\x94\\x8c\\x81/hps/nobackup/iqbal/mbhall/tech_wars/analysis/resistance_prediction/results/mutation_concordance/mykrobe/madagascar/mada_1-15.csv\\x94\\x8c\\x80/hps/nobackup/iqbal/mbhall/tech_wars/analysis/resistance_prediction/results/mutation_concordance/mykrobe/madagascar/mada_105.csv\\x94\\x8c\\x80/hps/nobackup/iqbal/mbhall/tech_wars/analysis/resistance_prediction/results/mutation_concordance/mykrobe/madagascar/mada_125.csv\\x94\\x8c\\x80/hps/nobackup/iqbal/mbhall/tech_wars/analysis/resistance_prediction/results/mutation_concordance/mykrobe/madagascar/mada_144.csv\\x94\\x8c\\x81/hps/nobackup/iqbal/mbhall/tech_wars/analysis/resistance_prediction/results/mutation_concordance/mykrobe/madagascar/mada_1-21.csv\\x94\\x8c\\x81/hps/nobackup/iqbal/mbhall/tech_wars/analysis/resistance_prediction/results/mutation_concordance/mykrobe/madagascar/mada_1-14.csv\\x94\\x8c\\x80/hps/nobackup/iqbal/mbhall/tech_wars/analysis/resistance_prediction/results/mutation_concordance/mykrobe/madagascar/mada_141.csv\\x94\\x8c\\x80/hps/nobackup/iqbal/mbhall/tech_wars/analysis/resistance_prediction/results/mutation_concordance/mykrobe/madagascar/mada_103.csv\\x94\\x8c\\x80/hps/nobackup/iqbal/mbhall/tech_wars/analysis/resistance_prediction/results/mutation_concordance/mykrobe/madagascar/mada_115.csv\\x94\\x8c\\x80/hps/nobackup/iqbal/mbhall/tech_wars/analysis/resistance_prediction/results/mutation_concordance/mykrobe/madagascar/mada_137.csv\\x94\\x8c\\x81/hps/nobackup/iqbal/mbhall/tech_wars/analysis/resistance_prediction/results/mutation_concordance/mykrobe/madagascar/mada_1-17.csv\\x94\\x8c\\x81/hps/nobackup/iqbal/mbhall/tech_wars/analysis/resistance_prediction/results/mutation_concordance/mykrobe/madagascar/mada_1-13.csv\\x94\\x8c\\x81/hps/nobackup/iqbal/mbhall/tech_wars/analysis/resistance_prediction/results/mutation_concordance/mykrobe/madagascar/mada_1-20.csv\\x94\\x8c\\x80/hps/nobackup/iqbal/mbhall/tech_wars/analysis/resistance_prediction/results/mutation_concordance/mykrobe/madagascar/mada_142.csv\\x94\\x8c\\x80/hps/nobackup/iqbal/mbhall/tech_wars/analysis/resistance_prediction/results/mutation_concordance/mykrobe/madagascar/mada_148.csv\\x94\\x8c\\x81/hps/nobackup/iqbal/mbhall/tech_wars/analysis/resistance_prediction/results/mutation_concordance/mykrobe/madagascar/mada_1-54.csv\\x94\\x8c\\x80/hps/nobackup/iqbal/mbhall/tech_wars/analysis/resistance_prediction/results/mutation_concordance/mykrobe/madagascar/mada_106.csv\\x94\\x8c\\x81/hps/nobackup/iqbal/mbhall/tech_wars/analysis/resistance_prediction/results/mutation_concordance/mykrobe/madagascar/mada_1-32.csv\\x94\\x8c\\x81/hps/nobackup/iqbal/mbhall/tech_wars/analysis/resistance_prediction/results/mutation_concordance/mykrobe/madagascar/mada_2-53.csv\\x94\\x8c\\x80/hps/nobackup/iqbal/mbhall/tech_wars/analysis/resistance_prediction/results/mutation_concordance/mykrobe/madagascar/mada_152.csv\\x94\\x8c\\x80/hps/nobackup/iqbal/mbhall/tech_wars/analysis/resistance_prediction/results/mutation_concordance/mykrobe/south_africa/R26791.csv\\x94\\x8c\\x80/hps/nobackup/iqbal/mbhall/tech_wars/analysis/resistance_prediction/results/mutation_concordance/mykrobe/south_africa/R21363.csv\\x94\\x8c\\x80/hps/nobackup/iqbal/mbhall/tech_wars/analysis/resistance_prediction/results/mutation_concordance/mykrobe/south_africa/R30234.csv\\x94\\x8c\\x80/hps/nobackup/iqbal/mbhall/tech_wars/analysis/resistance_prediction/results/mutation_concordance/mykrobe/south_africa/R36431.csv\\x94\\x8c\\x80/hps/nobackup/iqbal/mbhall/tech_wars/analysis/resistance_prediction/results/mutation_concordance/mykrobe/south_africa/R27252.csv\\x94\\x8c\\x80/hps/nobackup/iqbal/mbhall/tech_wars/analysis/resistance_prediction/results/mutation_concordance/mykrobe/south_africa/R29816.csv\\x94\\x8c\\x80/hps/nobackup/iqbal/mbhall/tech_wars/analysis/resistance_prediction/results/mutation_concordance/mykrobe/south_africa/R29598.csv\\x94\\x8c\\x80/hps/nobackup/iqbal/mbhall/tech_wars/analysis/resistance_prediction/results/mutation_concordance/mykrobe/south_africa/R30078.csv\\x94\\x8c\\x80/hps/nobackup/iqbal/mbhall/tech_wars/analysis/resistance_prediction/results/mutation_concordance/mykrobe/south_africa/R24100.csv\\x94\\x8c\\x80/hps/nobackup/iqbal/mbhall/tech_wars/analysis/resistance_prediction/results/mutation_concordance/mykrobe/south_africa/R31095.csv\\x94\\x8c\\x80/hps/nobackup/iqbal/mbhall/tech_wars/analysis/resistance_prediction/results/mutation_concordance/mykrobe/south_africa/R18043.csv\\x94\\x8c\\x80/hps/nobackup/iqbal/mbhall/tech_wars/analysis/resistance_prediction/results/mutation_concordance/mykrobe/south_africa/R18040.csv\\x94\\x8c\\x80/hps/nobackup/iqbal/mbhall/tech_wars/analysis/resistance_prediction/results/mutation_concordance/mykrobe/south_africa/R27937.csv\\x94\\x8c\\x80/hps/nobackup/iqbal/mbhall/tech_wars/analysis/resistance_prediction/results/mutation_concordance/mykrobe/south_africa/R30396.csv\\x94\\x8c\\x80/hps/nobackup/iqbal/mbhall/tech_wars/analysis/resistance_prediction/results/mutation_concordance/mykrobe/south_africa/R27657.csv\\x94\\x8c\\x80/hps/nobackup/iqbal/mbhall/tech_wars/analysis/resistance_prediction/results/mutation_concordance/mykrobe/south_africa/R30420.csv\\x94\\x8c\\x80/hps/nobackup/iqbal/mbhall/tech_wars/analysis/resistance_prediction/results/mutation_concordance/mykrobe/south_africa/R21839.csv\\x94\\x8c\\x80/hps/nobackup/iqbal/mbhall/tech_wars/analysis/resistance_prediction/results/mutation_concordance/mykrobe/south_africa/R28182.csv\\x94\\x8c\\x80/hps/nobackup/iqbal/mbhall/tech_wars/analysis/resistance_prediction/results/mutation_concordance/mykrobe/south_africa/R20896.csv\\x94\\x8c\\x80/hps/nobackup/iqbal/mbhall/tech_wars/analysis/resistance_prediction/results/mutation_concordance/mykrobe/south_africa/R23887.csv\\x94\\x8c\\x80/hps/nobackup/iqbal/mbhall/tech_wars/analysis/resistance_prediction/results/mutation_concordance/mykrobe/south_africa/R37765.csv\\x94\\x8c\\x80/hps/nobackup/iqbal/mbhall/tech_wars/analysis/resistance_prediction/results/mutation_concordance/mykrobe/south_africa/R30215.csv\\x94\\x8c\\x80/hps/nobackup/iqbal/mbhall/tech_wars/analysis/resistance_prediction/results/mutation_concordance/mykrobe/south_africa/R21893.csv\\x94\\x8c\\x80/hps/nobackup/iqbal/mbhall/tech_wars/analysis/resistance_prediction/results/mutation_concordance/mykrobe/south_africa/R27725.csv\\x94\\x8c\\x80/hps/nobackup/iqbal/mbhall/tech_wars/analysis/resistance_prediction/results/mutation_concordance/mykrobe/south_africa/R21408.csv\\x94\\x8c\\x80/hps/nobackup/iqbal/mbhall/tech_wars/analysis/resistance_prediction/results/mutation_concordance/mykrobe/south_africa/R28012.csv\\x94\\x8c\\x80/hps/nobackup/iqbal/mbhall/tech_wars/analysis/resistance_prediction/results/mutation_concordance/mykrobe/south_africa/R28703.csv\\x94\\x8c\\x80/hps/nobackup/iqbal/mbhall/tech_wars/analysis/resistance_prediction/results/mutation_concordance/mykrobe/south_africa/R21770.csv\\x94\\x8c\\x80/hps/nobackup/iqbal/mbhall/tech_wars/analysis/resistance_prediction/results/mutation_concordance/mykrobe/south_africa/R20260.csv\\x94\\x8c\\x80/hps/nobackup/iqbal/mbhall/tech_wars/analysis/resistance_prediction/results/mutation_concordance/mykrobe/south_africa/R25048.csv\\x94\\x8c\\x80/hps/nobackup/iqbal/mbhall/tech_wars/analysis/resistance_prediction/results/mutation_concordance/mykrobe/south_africa/R23146.csv\\x94\\x8c\\x80/hps/nobackup/iqbal/mbhall/tech_wars/analysis/resistance_prediction/results/mutation_concordance/mykrobe/south_africa/R32929.csv\\x94\\x8c\\x80/hps/nobackup/iqbal/mbhall/tech_wars/analysis/resistance_prediction/results/mutation_concordance/mykrobe/south_africa/R23571.csv\\x94\\x8c\\x80/hps/nobackup/iqbal/mbhall/tech_wars/analysis/resistance_prediction/results/mutation_concordance/mykrobe/south_africa/R20574.csv\\x94\\x8c\\x80/hps/nobackup/iqbal/mbhall/tech_wars/analysis/resistance_prediction/results/mutation_concordance/mykrobe/south_africa/R28980.csv\\x94\\x8c\\x80/hps/nobackup/iqbal/mbhall/tech_wars/analysis/resistance_prediction/results/mutation_concordance/mykrobe/south_africa/R24120.csv\\x94\\x8c\\x80/hps/nobackup/iqbal/mbhall/tech_wars/analysis/resistance_prediction/results/mutation_concordance/mykrobe/south_africa/R28581.csv\\x94\\x8c\\x80/hps/nobackup/iqbal/mbhall/tech_wars/analysis/resistance_prediction/results/mutation_concordance/mykrobe/south_africa/R15311.csv\\x94\\x8c\\x80/hps/nobackup/iqbal/mbhall/tech_wars/analysis/resistance_prediction/results/mutation_concordance/mykrobe/south_africa/R22601.csv\\x94\\x8c\\x80/hps/nobackup/iqbal/mbhall/tech_wars/analysis/resistance_prediction/results/mutation_concordance/mykrobe/south_africa/R20983.csv\\x94\\x8c\\x80/hps/nobackup/iqbal/mbhall/tech_wars/analysis/resistance_prediction/results/mutation_concordance/mykrobe/south_africa/R26778.csv\\x94\\x8c\\x81/hps/nobackup/iqbal/mbhall/tech_wars/analysis/resistance_prediction/results/mutation_concordance/mykrobe/birmingham/17_616026.csv\\x94\\x8c\\x81/hps/nobackup/iqbal/mbhall/tech_wars/analysis/resistance_prediction/results/mutation_concordance/mykrobe/birmingham/17_616156.csv\\x94\\x8c\\x82/hps/nobackup/iqbal/mbhall/tech_wars/analysis/resistance_prediction/results/mutation_concordance/mykrobe/birmingham/18_0621851.csv\\x94\\x8c\\x82/hps/nobackup/iqbal/mbhall/tech_wars/analysis/resistance_prediction/results/mutation_concordance/mykrobe/birmingham/18_0622057.csv\\x94\\x8c\\x82/hps/nobackup/iqbal/mbhall/tech_wars/analysis/resistance_prediction/results/mutation_concordance/mykrobe/birmingham/18_0622158.csv\\x94\\x8c\\x82/hps/nobackup/iqbal/mbhall/tech_wars/analysis/resistance_prediction/results/mutation_concordance/mykrobe/birmingham/18_0622224.csv\\x94\\x8c\\x82/hps/nobackup/iqbal/mbhall/tech_wars/analysis/resistance_prediction/results/mutation_concordance/mykrobe/birmingham/18_0622267.csv\\x94\\x8c\\x82/hps/nobackup/iqbal/mbhall/tech_wars/analysis/resistance_prediction/results/mutation_concordance/mykrobe/birmingham/18_0622291.csv\\x94\\x8c\\x82/hps/nobackup/iqbal/mbhall/tech_wars/analysis/resistance_prediction/results/mutation_concordance/mykrobe/birmingham/18_0622300.csv\\x94\\x8c\\x82/hps/nobackup/iqbal/mbhall/tech_wars/analysis/resistance_prediction/results/mutation_concordance/mykrobe/birmingham/18_0622312.csv\\x94\\x8c\\x82/hps/nobackup/iqbal/mbhall/tech_wars/analysis/resistance_prediction/results/mutation_concordance/mykrobe/birmingham/18_0622363.csv\\x94\\x8c\\x82/hps/nobackup/iqbal/mbhall/tech_wars/analysis/resistance_prediction/results/mutation_concordance/mykrobe/birmingham/18_0622365.csv\\x94\\x8c\\x82/hps/nobackup/iqbal/mbhall/tech_wars/analysis/resistance_prediction/results/mutation_concordance/mykrobe/birmingham/18_0622431.csv\\x94\\x8c\\x82/hps/nobackup/iqbal/mbhall/tech_wars/analysis/resistance_prediction/results/mutation_concordance/mykrobe/birmingham/18_0622434.csv\\x94\\x8c\\x82/hps/nobackup/iqbal/mbhall/tech_wars/analysis/resistance_prediction/results/mutation_concordance/mykrobe/birmingham/18_0622446.csv\\x94\\x8c\\x82/hps/nobackup/iqbal/mbhall/tech_wars/analysis/resistance_prediction/results/mutation_concordance/mykrobe/birmingham/18_0622455.csv\\x94\\x8c\\x82/hps/nobackup/iqbal/mbhall/tech_wars/analysis/resistance_prediction/results/mutation_concordance/mykrobe/birmingham/18_0622456.csv\\x94\\x8c\\x82/hps/nobackup/iqbal/mbhall/tech_wars/analysis/resistance_prediction/results/mutation_concordance/mykrobe/birmingham/18_0622465.csv\\x94\\x8c\\x81/hps/nobackup/iqbal/mbhall/tech_wars/analysis/resistance_prediction/results/mutation_concordance/mykrobe/birmingham/18_620606.csv\\x94e}\\x94(\\x8c\\x06_names\\x94}\\x94\\x8c\\x06tables\\x94K\\x00K\\x97\\x86\\x94s\\x8c\\x12_allowed_overrides\\x94]\\x94(\\x8c\\x05index\\x94\\x8c\\x04sort\\x94eh\\xa8\\x8c\\tfunctools\\x94\\x8c\\x07partial\\x94\\x93\\x94h\\x06\\x8c\\x19Namedlist._used_attribute\\x94\\x93\\x94\\x85\\x94R\\x94(h\\xae)}\\x94\\x8c\\x05_name\\x94h\\xa8sNt\\x94bh\\xa9h\\xach\\xae\\x85\\x94R\\x94(h\\xae)}\\x94h\\xb2h\\xa9sNt\\x94bh\\xa4h\\x06\\x8c\\tNamedlist\\x94\\x93\\x94)\\x81\\x94(h\\nh\\x0bh\\x0ch\\rh\\x0eh\\x0fh\\x10h\\x11h\\x12h\\x13h\\x14h\\x15h\\x16h\\x17h\\x18h\\x19h\\x1ah\\x1bh\\x1ch\\x1dh\\x1eh\\x1fh h!h\"h#h$h%h&h\\'h(h)h*h+h,h-h.h/h0h1h2h3h4h5h6h7h8h9h:h;h<h=h>h?h@hAhBhChDhEhFhGhHhIhJhKhLhMhNhOhPhQhRhShThUhVhWhXhYhZh[h\\\\h]h^h_h`hahbhchdhehfhghhhihjhkhlhmhnhohphqhrhshthuhvhwhxhyhzh{h|h}h~h\\x7fh\\x80h\\x81h\\x82h\\x83h\\x84h\\x85h\\x86h\\x87h\\x88h\\x89h\\x8ah\\x8bh\\x8ch\\x8dh\\x8eh\\x8fh\\x90h\\x91h\\x92h\\x93h\\x94h\\x95h\\x96h\\x97h\\x98h\\x99h\\x9ah\\x9bh\\x9ch\\x9dh\\x9eh\\x9fh\\xa0e}\\x94(h\\xa2}\\x94h\\xa6]\\x94(h\\xa8h\\xa9eh\\xa8h\\xach\\xae\\x85\\x94R\\x94(h\\xae)}\\x94h\\xb2h\\xa8sNt\\x94bh\\xa9h\\xach\\xae\\x85\\x94R\\x94(h\\xae)}\\x94h\\xb2h\\xa9sNt\\x94bubub\\x8c\\x06output\\x94h\\x06\\x8c\\x0bOutputFiles\\x94\\x93\\x94)\\x81\\x94\\x8cl/hps/nobackup/iqbal/mbhall/tech_wars/analysis/resistance_prediction/results/mutation_concordance/results.txt\\x94a}\\x94(h\\xa2}\\x94h\\xa6]\\x94(h\\xa8h\\xa9eh\\xa8h\\xach\\xae\\x85\\x94R\\x94(h\\xae)}\\x94h\\xb2h\\xa8sNt\\x94bh\\xa9h\\xach\\xae\\x85\\x94R\\x94(h\\xae)}\\x94h\\xb2h\\xa9sNt\\x94bub\\x8c\\x06params\\x94h\\x06\\x8c\\x06Params\\x94\\x93\\x94)\\x81\\x94(\\x8c\\x03REF\\x94\\x8c\\x04FILT\\x94e}\\x94(h\\xa2}\\x94(\\x8c\\x0etreat_minor_as\\x94K\\x00N\\x86\\x94\\x8c\\rtreat_null_as\\x94K\\x01N\\x86\\x94uh\\xa6]\\x94(h\\xa8h\\xa9eh\\xa8h\\xach\\xae\\x85\\x94R\\x94(h\\xae)}\\x94h\\xb2h\\xa8sNt\\x94bh\\xa9h\\xach\\xae\\x85\\x94R\\x94(h\\xae)}\\x94h\\xb2h\\xa9sNt\\x94bh\\xdeh\\xdah\\xe0h\\xdbub\\x8c\\twildcards\\x94h\\x06\\x8c\\tWildcards\\x94\\x93\\x94)\\x81\\x94}\\x94(h\\xa2}\\x94h\\xa6]\\x94(h\\xa8h\\xa9eh\\xa8h\\xach\\xae\\x85\\x94R\\x94(h\\xae)}\\x94h\\xb2h\\xa8sNt\\x94bh\\xa9h\\xach\\xae\\x85\\x94R\\x94(h\\xae)}\\x94h\\xb2h\\xa9sNt\\x94bub\\x8c\\x07threads\\x94K\\x01\\x8c\\tresources\\x94h\\x06\\x8c\\tResources\\x94\\x93\\x94)\\x81\\x94(K\\x01K\\x01M\\x00\\x10M\\xe8\\x03\\x8c&/hps/scratch/lsf_tmpdir/hl-codon-09-04\\x94e}\\x94(h\\xa2}\\x94(\\x8c\\x06_cores\\x94K\\x00N\\x86\\x94\\x8c\\x06_nodes\\x94K\\x01N\\x86\\x94\\x8c\\x06mem_mb\\x94K\\x02N\\x86\\x94\\x8c\\x07disk_mb\\x94K\\x03N\\x86\\x94\\x8c\\x06tmpdir\\x94K\\x04N\\x86\\x94uh\\xa6]\\x94(h\\xa8h\\xa9eh\\xa8h\\xach\\xae\\x85\\x94R\\x94(h\\xae)}\\x94h\\xb2h\\xa8sNt\\x94bh\\xa9h\\xach\\xae\\x85\\x94R\\x94(h\\xae)}\\x94h\\xb2h\\xa9sNt\\x94bj\\x02\\x01\\x00\\x00K\\x01j\\x04\\x01\\x00\\x00K\\x01j\\x06\\x01\\x00\\x00M\\x00\\x10j\\x08\\x01\\x00\\x00M\\xe8\\x03j\\n\\x01\\x00\\x00h\\xffub\\x8c\\x03log\\x94h\\x06\\x8c\\x03Log\\x94\\x93\\x94)\\x81\\x94\\x8cn/hps/nobackup/iqbal/mbhall/tech_wars/analysis/resistance_prediction/results/mutation_concordance/results.ipynb\\x94a}\\x94(h\\xa2}\\x94\\x8c\\x08notebook\\x94K\\x00N\\x86\\x94sh\\xa6]\\x94(h\\xa8h\\xa9eh\\xa8h\\xach\\xae\\x85\\x94R\\x94(h\\xae)}\\x94h\\xb2h\\xa8sNt\\x94bh\\xa9h\\xach\\xae\\x85\\x94R\\x94(h\\xae)}\\x94h\\xb2h\\xa9sNt\\x94bj\\x1c\\x01\\x00\\x00j\\x19\\x01\\x00\\x00ub\\x8c\\x06config\\x94}\\x94(\\x8c\\x0bsamplesheet\\x94\\x8c\\x1a../../docs/samplesheet.csv\\x94\\x8c\\nphenosheet\\x94\\x8c\\x19../../docs/phenotypes.csv\\x94\\x8c\\x11mykrobe_panel_url\\x94\\x8c/https://ndownloader.figshare.com/files/14120198\\x94\\x8c\\tmatch_len\\x94K\\x05\\x8c\\x07padding\\x94Kd\\x8c\\x07filters\\x94}\\x94(\\x8c\\x08min_covg\\x94K\\x03\\x8c\\x0fmin_strand_bias\\x94G?\\x84z\\xe1G\\xae\\x14{\\x8c\\x07min_frs\\x94G?\\xe6ffffff\\x8c\\tmax_indel\\x94K\\x14\\x8c\\x0bmin_gt_conf\\x94}\\x94(\\x8c\\x08nanopore\\x94K\\x05\\x8c\\x08illumina\\x94K\\x05uu\\x8c\\ncontainers\\x94}\\x94(\\x8c\\x04base\\x94\\x8c\\x11docker://bash:5.1\\x94\\x8c\\x07mykrobe\\x94\\x8c=docker://quay.io/biocontainers/mykrobe:0.10.0--py38h8e3bb3f_0\\x94\\x8c\\x05conda\\x94\\x8c%docker://continuumio/miniconda3:4.9.2\\x94\\x8c\\x05drprg\\x94\\x8c\\'docker://quay.io/mbhall88/drprg:cb4f9b8\\x94\\x8c\\x05mafft\\x94\\x8c6docker://quay.io/biocontainers/mafft:7.475--h516909a_0\\x94\\x8c\\x05happy\\x94\\x8c<docker://quay.io/biocontainers/hap.py:0.3.14--py27h5c5a3ab_0\\x94\\x8c\\x08bcftools\\x94\\x8c8docker://quay.io/biocontainers/bcftools:1.11--h7c999a4_0\\x94uu\\x8c\\x04rule\\x94\\x8c\\x1canalyse_mutation_concordance\\x94\\x8c\\x0fbench_iteration\\x94N\\x8c\\tscriptdir\\x94\\x8cV/hps/nobackup/iqbal/mbhall/tech_wars/analysis/resistance_prediction/workflow/notebooks\\x94ub.'); from snakemake.logging import logger; logger.printshellcmds = True; import os; os.chdir(r'/hps/nobackup/iqbal/mbhall/tech_wars/analysis/resistance_prediction');\n",
    "######## snakemake preamble end #########\n"
   ]
  },
  {
   "cell_type": "code",
   "execution_count": 2,
   "id": "d51f6d1a",
   "metadata": {
    "execution": {
     "iopub.execute_input": "2021-11-07T03:42:04.804820Z",
     "iopub.status.busy": "2021-11-07T03:42:04.804082Z",
     "iopub.status.idle": "2021-11-07T03:42:04.816252Z",
     "shell.execute_reply": "2021-11-07T03:42:04.816920Z"
    }
   },
   "outputs": [],
   "source": [
    "from enum import Enum\n",
    "from typing import Optional, Tuple\n",
    "from collections import Counter\n",
    "from dataclasses import dataclass\n",
    "from pathlib import Path"
   ]
  },
  {
   "cell_type": "code",
   "execution_count": 3,
   "id": "66fbd665",
   "metadata": {
    "execution": {
     "iopub.execute_input": "2021-11-07T03:42:04.821980Z",
     "iopub.status.busy": "2021-11-07T03:42:04.821293Z",
     "iopub.status.idle": "2021-11-07T03:42:04.823719Z",
     "shell.execute_reply": "2021-11-07T03:42:04.823054Z"
    }
   },
   "outputs": [],
   "source": [
    "table_files = map(Path, snakemake.input.tables)"
   ]
  },
  {
   "cell_type": "code",
   "execution_count": 4,
   "id": "6ad1b1ca",
   "metadata": {
    "execution": {
     "iopub.execute_input": "2021-11-07T03:42:04.841701Z",
     "iopub.status.busy": "2021-11-07T03:42:04.841016Z",
     "iopub.status.idle": "2021-11-07T03:42:04.843474Z",
     "shell.execute_reply": "2021-11-07T03:42:04.842942Z"
    }
   },
   "outputs": [],
   "source": [
    "class Calls(Enum):\n",
    "    Ref = \"REF\"\n",
    "    Alt = \"ALT\"\n",
    "    Null = \"NULL\"\n",
    "    Minor = \"HET\"\n",
    "    Filtered = \"FILT\"\n",
    "\n",
    "\n",
    "class Classification(Enum):\n",
    "    TruePositive = \"TP\"\n",
    "    FalsePositive = \"FP\"\n",
    "    TrueNegative = \"TN\"\n",
    "    FalseNegative = \"FN\"\n",
    "\n",
    "    def __str__(self) -> str:\n",
    "        return self.value\n",
    "\n",
    "    def __lt__(self, other):\n",
    "        return str(self) < str(other)\n",
    "\n",
    "    @staticmethod\n",
    "    def from_pair(y: Calls, y_hat: Calls) -> \"Classification\":\n",
    "        return {\n",
    "            (Calls.Ref, Calls.Ref): Classification.TrueNegative,\n",
    "            (Calls.Alt, Calls.Alt): Classification.TruePositive,\n",
    "            (Calls.Ref, Calls.Alt): Classification.FalsePositive,\n",
    "            (Calls.Alt, Calls.Ref): Classification.FalseNegative,\n",
    "            (Calls.Minor, Calls.Alt): Classification.TruePositive,\n",
    "            (Calls.Minor, Calls.Ref): Classification.FalseNegative,\n",
    "            (Calls.Minor, Calls.Null): Classification.FalseNegative,\n",
    "            (Calls.Null, Calls.Alt): Classification.FalsePositive,\n",
    "            (Calls.Null, Calls.Ref): Classification.FalseNegative,\n",
    "            (Calls.Null, Calls.Null): Classification.TrueNegative,\n",
    "            (Calls.Ref, Calls.Null): Classification.FalseNegative,\n",
    "            (Calls.Alt, Calls.Null): Classification.FalseNegative,\n",
    "        }[(y, y_hat)]\n",
    "\n",
    "\n",
    "class Classifier:\n",
    "    def __init__(self, treat_minor_as: str = \"HET\", treat_null_as: str = \"NULL\"):\n",
    "        self.minor = treat_minor_as\n",
    "        self.null = treat_null_as\n",
    "\n",
    "    def convert(self, call: str) -> str:\n",
    "        return {\n",
    "            \"HET\": self.minor,\n",
    "            \"NULL\": self.null\n",
    "        }.get(call, call)\n",
    "\n",
    "    def classify(self, illumina_call: str, nanopore_call: str) -> Optional[Classification]:\n",
    "        illumina_call = Calls(self.convert(illumina_call))\n",
    "        nanopore_call = Calls(self.convert(nanopore_call))\n",
    "        if Calls.Filtered in (illumina_call, nanopore_call):\n",
    "            return None\n",
    "        else:\n",
    "            return Classification.from_pair(illumina_call, nanopore_call)\n",
    "\n",
    "\n",
    "@dataclass\n",
    "class ConfusionMatrix:\n",
    "    tp: int = 0\n",
    "    tn: int = 0\n",
    "    fp: int = 0\n",
    "    fn: int = 0\n",
    "\n",
    "    def ravel(self) -> Tuple[int, int, int, int]:\n",
    "        \"\"\"Return the matrix as a flattened tuple.\n",
    "        The order of return is TN, FP, FN, TP\n",
    "        \"\"\"\n",
    "        return self.tn, self.fp, self.fn, self.tp\n",
    "\n",
    "    def precision(self) -> float:\n",
    "        \"\"\"Also known as positive predictive value (PPV)\"\"\"\n",
    "        return self.tp / (self.tp + self.fp)\n",
    "\n",
    "    def recall(self) -> float:\n",
    "        \"\"\"Also known as true positive rate (TPR)\"\"\"\n",
    "        return self.tp / (self.tp + self.fn)\n",
    "\n",
    "    def fnr(self) -> float:\n",
    "        \"\"\"False negative rate\"\"\"\n",
    "        return 1 - self.recall()\n",
    "\n",
    "    def fpr(self) -> float:\n",
    "        \"False positive rate\"\n",
    "        return self.fp / (self.fp + self.tn)\n",
    "\n",
    "    @staticmethod\n",
    "    def from_counter(c: Counter) -> \"ConfusionMatrix\":\n",
    "        return ConfusionMatrix(\n",
    "            tp=c[Classification.TruePositive],\n",
    "            tn=c[Classification.TrueNegative],\n",
    "            fp=c[Classification.FalsePositive],\n",
    "            fn=c[Classification.FalseNegative]\n",
    "        )"
   ]
  },
  {
   "cell_type": "code",
   "execution_count": 5,
   "id": "9862f62c",
   "metadata": {
    "execution": {
     "iopub.execute_input": "2021-11-07T03:42:04.847864Z",
     "iopub.status.busy": "2021-11-07T03:42:04.847387Z",
     "iopub.status.idle": "2021-11-07T03:42:04.849495Z",
     "shell.execute_reply": "2021-11-07T03:42:04.848778Z"
    }
   },
   "outputs": [],
   "source": [
    "classifier = Classifier(treat_minor_as=snakemake.params.treat_minor_as, treat_null_as=snakemake.params.treat_null_as)"
   ]
  },
  {
   "cell_type": "code",
   "execution_count": 6,
   "id": "ebb610d2",
   "metadata": {
    "execution": {
     "iopub.execute_input": "2021-11-07T03:42:04.857699Z",
     "iopub.status.busy": "2021-11-07T03:42:04.857185Z",
     "iopub.status.idle": "2021-11-07T03:45:06.999442Z",
     "shell.execute_reply": "2021-11-07T03:45:06.999969Z"
    }
   },
   "outputs": [],
   "source": [
    "outstream = open(snakemake.output[0], \"w\")\n",
    "data = {}\n",
    "for file in table_files:\n",
    "    sample = file.name.split(\".\")[0]\n",
    "    with open(file) as f:\n",
    "        _ = next(f)\n",
    "        c = Counter()\n",
    "        for row in f:\n",
    "            mut, illumina_call, nanopore_call = row.rstrip().split(\",\")\n",
    "            clf = classifier.classify(illumina_call, nanopore_call)\n",
    "            if clf is None:\n",
    "                continue\n",
    "            elif clf in (Classification.FalseNegative, Classification.FalsePositive):\n",
    "                print(f\"{mut}\\t{sample}\\t{str(clf)}\", file=outstream)\n",
    "            c[clf] += 1\n",
    "        data[sample] = ConfusionMatrix.from_counter(c)"
   ]
  },
  {
   "cell_type": "code",
   "execution_count": 7,
   "id": "77c1f8d2",
   "metadata": {
    "execution": {
     "iopub.execute_input": "2021-11-07T03:45:07.005248Z",
     "iopub.status.busy": "2021-11-07T03:45:07.004746Z",
     "iopub.status.idle": "2021-11-07T03:45:07.007866Z",
     "shell.execute_reply": "2021-11-07T03:45:07.008423Z"
    }
   },
   "outputs": [],
   "source": [
    "fps = 0\n",
    "fns = 0\n",
    "for s, cm in data.items():\n",
    "    fps += cm.fp\n",
    "    fns += cm.fn"
   ]
  },
  {
   "cell_type": "code",
   "execution_count": 8,
   "id": "720e43ff",
   "metadata": {
    "execution": {
     "iopub.execute_input": "2021-11-07T03:45:07.011628Z",
     "iopub.status.busy": "2021-11-07T03:45:07.011210Z",
     "iopub.status.idle": "2021-11-07T03:45:07.018851Z",
     "shell.execute_reply": "2021-11-07T03:45:07.018432Z"
    },
    "pycharm": {
     "name": "#%%\n"
    }
   },
   "outputs": [],
   "source": [
    "print(f\"Total of {fps} FPs and {fns} FNs across all samples\", file=outstream)\n",
    "outstream.close()\n"
   ]
  }
 ],
 "metadata": {
  "kernelspec": {
   "display_name": "Python 3 (ipykernel)",
   "language": "python",
   "name": "python3"
  },
  "language_info": {
   "codemirror_mode": {
    "name": "ipython",
    "version": 3
   },
   "file_extension": ".py",
   "mimetype": "text/x-python",
   "name": "python",
   "nbconvert_exporter": "python",
   "pygments_lexer": "ipython3",
   "version": "3.8.12"
  }
 },
 "nbformat": 4,
 "nbformat_minor": 5
}
