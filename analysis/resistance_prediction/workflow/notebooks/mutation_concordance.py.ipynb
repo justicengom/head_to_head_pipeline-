{
 "cells": [
  {
   "cell_type": "code",
   "execution_count": 27,
   "id": "d51f6d1a",
   "metadata": {},
   "outputs": [],
   "source": [
    "import pandas as pd\n",
    "from enum import Enum\n",
    "from typing import Optional, Tuple, List\n",
    "from collections import Counter\n",
    "from dataclasses import dataclass\n",
    "import numpy as np"
   ]
  },
  {
   "cell_type": "code",
   "execution_count": 7,
   "id": "66fbd665",
   "metadata": {},
   "outputs": [],
   "source": [
    "from pathlib import Path\n",
    "table_files = list(Path(\"../../results/mutation_concordance/\").rglob(\"*.csv\"))"
   ]
  },
  {
   "cell_type": "code",
   "execution_count": 32,
   "id": "6ad1b1ca",
   "metadata": {},
   "outputs": [],
   "source": [
    "class Calls(Enum):\n",
    "    Ref = \"REF\"\n",
    "    Alt = \"ALT\"\n",
    "    Null = \"NULL\"\n",
    "    Minor = \"HET\"\n",
    "    Filtered = \"FILT\"\n",
    "\n",
    "class Classification(Enum):\n",
    "    TruePositive = \"TP\"\n",
    "    FalsePositive = \"FP\"\n",
    "    TrueNegative = \"TN\"\n",
    "    FalseNegative = \"FN\"\n",
    "\n",
    "    def __str__(self) -> str:\n",
    "        return self.value\n",
    "    \n",
    "    def __lt__(self, other):\n",
    "        return str(self) < str(other)\n",
    "    \n",
    "    @staticmethod\n",
    "    def from_pair(y: Calls, y_hat: Calls) -> \"Classification\":\n",
    "        return {\n",
    "            (Calls.Ref, Calls.Ref): Classification.TrueNegative,\n",
    "            (Calls.Alt, Calls.Alt): Classification.TruePositive,\n",
    "            (Calls.Ref, Calls.Alt): Classification.FalsePositive,\n",
    "            (Calls.Alt, Calls.Ref): Classification.FalseNegative,\n",
    "            (Calls.Minor, Calls.Alt): Classification.TruePositive,\n",
    "            (Calls.Minor, Calls.Ref): Classification.FalseNegative,\n",
    "            (Calls.Minor, Calls.Null): Classification.FalseNegative,\n",
    "            (Calls.Null, Calls.Alt): Classification.FalsePositive,\n",
    "            (Calls.Null, Calls.Ref): Classification.FalseNegative,\n",
    "            (Calls.Null, Calls.Null): Classification.TrueNegative,\n",
    "            (Calls.Ref, Calls.Null): Classification.FalseNegative,\n",
    "            (Calls.Alt, Calls.Null): Classification.FalseNegative,\n",
    "        }[(y, y_hat)]\n",
    "        \n",
    "    \n",
    "class Classifier:\n",
    "    def __init__(self, treat_minor_as: str = \"HET\", treat_null_as: str=\"NULL\"):\n",
    "        self.minor = treat_minor_as\n",
    "        self.null = treat_null_as\n",
    "        \n",
    "    def convert(self, call: str) -> str:\n",
    "        return {\n",
    "            \"HET\": self.minor,\n",
    "            \"NULL\": self.null\n",
    "        }.get(call, call)\n",
    "\n",
    "    def classify(self, illumina_call: str, nanopore_call: str) -> Optional[Classification]:\n",
    "        illumina_call = Calls(self.convert(illumina_call))\n",
    "        nanopore_call = Calls(self.convert(nanopore_call))\n",
    "        if Calls.Filtered in (illumina_call, nanopore_call):\n",
    "            return None\n",
    "        else:\n",
    "            return Classification.from_pair(illumina_call, nanopore_call)\n",
    "        \n",
    "@dataclass\n",
    "class ConfusionMatrix:\n",
    "    tp: int = 0\n",
    "    tn: int = 0\n",
    "    fp: int = 0\n",
    "    fn: int = 0\n",
    "\n",
    "    def ravel(self) -> Tuple[int, int, int, int]:\n",
    "        \"\"\"Return the matrix as a flattened tuple.\n",
    "        The order of return is TN, FP, FN, TP\n",
    "        \"\"\"\n",
    "        return self.tn, self.fp, self.fn, self.tp\n",
    "\n",
    "    def as_matrix(self) -> np.ndarray:\n",
    "        \"\"\"Returns a 2x2 matrix [[TN, FP], [FN, TP]]\"\"\"\n",
    "        return np.array([[self.tn, self.fp], [self.fn, self.tp]])\n",
    "\n",
    "    def precision(self) -> float:\n",
    "        \"\"\"Also known as positive predictive value (PPV)\"\"\"\n",
    "        return self.tp / (self.tp + self.fp)\n",
    "\n",
    "    def recall(self) -> float:\n",
    "        \"\"\"Also known as true positive rate (TPR)\"\"\"\n",
    "        return self.tp / (self.tp + self.fn)\n",
    "    \n",
    "    def fnr(self) -> float:\n",
    "        \"False negative rate\"\n",
    "        return 1 - self.recall\n",
    "    \n",
    "    def fpr(self) -> float:\n",
    "        \"False positive rate\"\n",
    "        return self.fp / (self.fp + self.tn)\n",
    "\n",
    "    def fowlkes_mallows_index(self) -> float:\n",
    "        \"\"\"Geometric mean between precision and recall\"\"\"\n",
    "        return math.sqrt(self.precision() * self.recall())\n",
    "\n",
    "    def f_score(self, beta: float = 1.0) -> float:\n",
    "        \"\"\"Harmonic mean of precision and recall.\n",
    "        When beta is set to 0, you get precision. When beta is set to 1, you get the\n",
    "        unweighted F-score which is the harmonic mean of precision and recall. Setting\n",
    "        beta to 2 weighs recall twice as much as precision. Setting beta to 0.5 weighs\n",
    "        precision twice as much as recall.\n",
    "        \"\"\"\n",
    "        ppv = self.precision()\n",
    "        tpr = self.recall()\n",
    "        beta2 = beta ** 2\n",
    "\n",
    "        return ((beta2 + 1) * ppv * tpr) / ((beta2 * ppv) + tpr)\n",
    "\n",
    "    def matthews_correlation_coefficient(self) -> float:\n",
    "        \"\"\"A correlation coefficient between the observed and predicted binary\n",
    "        classifications.\n",
    "        \"\"\"\n",
    "        tn, fp, fn, tp = self.ravel()\n",
    "        numerator = tp * tn - fp * fn\n",
    "        denominator = math.sqrt((tp + fp) * (tp + fn) * (tn + fp) * (tn + fn))\n",
    "        return numerator / denominator\n",
    "\n",
    "    @staticmethod\n",
    "    def from_predictions(pred: List[bool], truth: List[bool]) -> \"ConfusionMatrix\":\n",
    "        assert len(pred) == len(truth)\n",
    "        mtx = [[0, 0], [0, 0]]\n",
    "        for y_true, y_pred in zip(truth, pred):\n",
    "            mtx[y_true][y_pred] += 1\n",
    "        [tn, fp], [fn, tp] = mtx\n",
    "        return ConfusionMatrix(tp=tp, tn=tn, fp=fp, fn=fn)\n",
    "    \n",
    "    @staticmethod\n",
    "    def from_counter(c: Counter) -> \"ConfusionMatrix\":\n",
    "        return ConfusionMatrix(\n",
    "            tp=c[Classification.TruePositive], \n",
    "            tn=c[Classification.TrueNegative],\n",
    "            fp=c[Classification.FalsePositive],\n",
    "            fn=c[Classification.FalseNegative]\n",
    "        )"
   ]
  },
  {
   "cell_type": "code",
   "execution_count": 9,
   "id": "9862f62c",
   "metadata": {},
   "outputs": [],
   "source": [
    "classifier = Classifier(treat_minor_as=\"FILT\", treat_null_as=\"FILT\")"
   ]
  },
  {
   "cell_type": "code",
   "execution_count": 36,
   "id": "ebb610d2",
   "metadata": {},
   "outputs": [],
   "source": [
    "data = {}\n",
    "for file in table_files:\n",
    "    sample = file.name.split(\".\")[0]\n",
    "    with open(file) as f:\n",
    "        _ = next(f)\n",
    "        c = Counter()\n",
    "        for row in f:\n",
    "            mut, illumina_call, nanopore_call = row.rstrip().split(\",\")\n",
    "            clf = classifier.classify(illumina_call, nanopore_call)\n",
    "            if clf is None:\n",
    "                continue\n",
    "            c[clf] += 1\n",
    "        data[sample] = ConfusionMatrix.from_counter(c)\n",
    "#     break"
   ]
  },
  {
   "cell_type": "code",
   "execution_count": 37,
   "id": "77c1f8d2",
   "metadata": {},
   "outputs": [],
   "source": [
    "fps = 0\n",
    "fns = 0\n",
    "for s, cm in data.items():\n",
    "    fps += cm.fp\n",
    "    fns = cm.fn"
   ]
  },
  {
   "cell_type": "code",
   "execution_count": 38,
   "id": "720e43ff",
   "metadata": {},
   "outputs": [
    {
     "data": {
      "text/plain": [
       "4"
      ]
     },
     "execution_count": 38,
     "metadata": {},
     "output_type": "execute_result"
    }
   ],
   "source": [
    "fps"
   ]
  },
  {
   "cell_type": "code",
   "execution_count": 39,
   "id": "ec905ad5",
   "metadata": {},
   "outputs": [
    {
     "data": {
      "text/plain": [
       "0"
      ]
     },
     "execution_count": 39,
     "metadata": {},
     "output_type": "execute_result"
    }
   ],
   "source": [
    "fns"
   ]
  },
  {
   "cell_type": "code",
   "execution_count": null,
   "id": "e0812a98",
   "metadata": {},
   "outputs": [],
   "source": []
  }
 ],
 "metadata": {
  "kernelspec": {
   "display_name": "Python 3 (ipykernel)",
   "language": "python",
   "name": "python3"
  },
  "language_info": {
   "codemirror_mode": {
    "name": "ipython",
    "version": 3
   },
   "file_extension": ".py",
   "mimetype": "text/x-python",
   "name": "python",
   "nbconvert_exporter": "python",
   "pygments_lexer": "ipython3",
   "version": "3.8.10"
  }
 },
 "nbformat": 4,
 "nbformat_minor": 5
}
